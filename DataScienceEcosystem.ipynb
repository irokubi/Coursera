{
 "cells": [
  {
   "cell_type": "markdown",
   "id": "1f373926-b4f9-41b4-a9bb-d548fac63fd5",
   "metadata": {},
   "source": [
    "# Data science Tools and Ecosystem #"
   ]
  },
  {
   "cell_type": "markdown",
   "id": "143a1700-3661-41a3-836d-ff31a8840614",
   "metadata": {},
   "source": [
    "In this notebook, Data Science Tools and Ecosystem are summarized."
   ]
  },
  {
   "cell_type": "markdown",
   "id": "1a0a56e2-b1f5-4f82-af92-cc6dbdb2fbf9",
   "metadata": {},
   "source": [
    "Some of the popular languages that Data Scientists use are:\n",
    "* Phyton\n",
    "* Javascript\n",
    "* Julia"
   ]
  },
  {
   "cell_type": "markdown",
   "id": "b94f4c89-e2e5-4ce8-98f8-68379990b400",
   "metadata": {},
   "source": [
    "Some of the commonly used libraries used by Data Scientists include:\n",
    "* Tensorflow\n",
    "* Pandas\n",
    "* Numpy\n",
    "* Etc"
   ]
  },
  {
   "cell_type": "markdown",
   "id": "c6930de8-369b-41f0-89c3-ff94e41ba77d",
   "metadata": {},
   "source": [
    "## Data Science tools"
   ]
  },
  {
   "cell_type": "markdown",
   "id": "791a2334-7fff-4cb2-bf90-16cb32d3f104",
   "metadata": {},
   "source": [
    "| Data Science Tools |\n",
    "|--------------------|\n",
    "|Apache Spark\n",
    "Jupyter Notebooks\n",
    "Rstudio |"
   ]
  },
  {
   "cell_type": "markdown",
   "id": "509c085b-ec2a-46da-92a6-8f970d5eecbb",
   "metadata": {},
   "source": [
    "### Below are a few examples of evaluating arithmetic expressions in Python"
   ]
  },
  {
   "cell_type": "code",
   "execution_count": 31,
   "id": "bdfe423f-9b7b-4e99-abac-dd14189b8051",
   "metadata": {},
   "outputs": [
    {
     "data": {
      "text/plain": [
       "17"
      ]
     },
     "execution_count": 31,
     "metadata": {},
     "output_type": "execute_result"
    }
   ],
   "source": [
    "(3*4)+5"
   ]
  },
  {
   "cell_type": "markdown",
   "id": "206ddb6a-9f24-49c2-8452-5b5236e77a60",
   "metadata": {},
   "source": [
    "_This a simple arithmetic expression to mutiply then add integers_"
   ]
  },
  {
   "cell_type": "code",
   "execution_count": 54,
   "id": "02414a61-6a86-456f-8fbd-9e2722727957",
   "metadata": {},
   "outputs": [
    {
     "data": {
      "text/plain": [
       "3.3333333333333335"
      ]
     },
     "execution_count": 54,
     "metadata": {},
     "output_type": "execute_result"
    }
   ],
   "source": [
    "200/60 #Minutes into hours#"
   ]
  },
  {
   "cell_type": "markdown",
   "id": "a44092ab-1d2b-4d4e-aa04-ae9a01bca5ac",
   "metadata": {},
   "source": [
    "_This will convert 200 minutes to hours by diving by 60_"
   ]
  },
  {
   "cell_type": "markdown",
   "id": "21c5dbdc-78b8-47f3-a0d6-8ecce8fab3d3",
   "metadata": {},
   "source": [
    "__Objectives:__"
   ]
  },
  {
   "cell_type": "markdown",
   "id": "40cac5b9-2ce1-4c32-afb7-d0eace479953",
   "metadata": {},
   "source": [
    "* Popular Languages for Data science\n",
    "* Popular Libraries for Data science\n",
    "* Tools for Data science\n",
    "* Arithmetic expressions in phyton"
   ]
  },
  {
   "attachments": {},
   "cell_type": "markdown",
   "id": "8ba117c4-3354-4c6f-b22c-73b1eb6f2d5f",
   "metadata": {},
   "source": [
    "## Author\n",
    "Felix Martinez"
   ]
  }
 ],
 "metadata": {
  "kernelspec": {
   "display_name": "Python 3 (ipykernel)",
   "language": "python",
   "name": "python3"
  },
  "language_info": {
   "codemirror_mode": {
    "name": "ipython",
    "version": 3
   },
   "file_extension": ".py",
   "mimetype": "text/x-python",
   "name": "python",
   "nbconvert_exporter": "python",
   "pygments_lexer": "ipython3",
   "version": "3.12.4"
  }
 },
 "nbformat": 4,
 "nbformat_minor": 5
}
